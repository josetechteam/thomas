{
 "cells": [
  {
   "cell_type": "code",
   "execution_count": 4,
   "metadata": {},
   "outputs": [
    {
     "data": {
      "text/plain": [
       "0.0475"
      ]
     },
     "execution_count": 4,
     "metadata": {},
     "output_type": "execute_result"
    }
   ],
   "source": [
    "# print \"Enter Loan amount: \"\n",
    "# loan = gets.chomp.to_i\n",
    "# print \"Enter length of time in months: \"\n",
    "# time = gets.chomp.to_i\n",
    "# print \"Enter interest rate: \"\n",
    "# rate = gets.chomp.to_f/100\n",
    "\n",
    "\n",
    "loan = (120000-(120000*0.2))\n",
    "time = 12 * 30\n",
    "rate = 4.75/100.to_f\n",
    "\n",
    "\n"
   ]
  },
  {
   "cell_type": "code",
   "execution_count": 5,
   "metadata": {},
   "outputs": [
    {
     "name": "stdout",
     "output_type": "stream",
     "text": [
      "\n",
      "$500.78 per month\n"
     ]
    }
   ],
   "source": [
    "#Calculate effective interest rate per month\n",
    "i = (1+rate/12)**(12/12)-1\n",
    "\n",
    "#Calculate the annuity factor\n",
    "annuity = (1-(1/(1+i))**time)/i\n",
    "\n",
    "payment = loan/annuity\n",
    "\n",
    "#format the string nice and pretty\n",
    "puts \"\\n$%.2f per month\" % [payment]\n"
   ]
  },
  {
   "cell_type": "code",
   "execution_count": null,
   "metadata": {},
   "outputs": [],
   "source": []
  }
 ],
 "metadata": {
  "kernelspec": {
   "display_name": "Ruby 2.3.1",
   "language": "ruby",
   "name": "ruby"
  },
  "language_info": {
   "file_extension": ".rb",
   "mimetype": "application/x-ruby",
   "name": "ruby",
   "version": "2.3.1"
  }
 },
 "nbformat": 4,
 "nbformat_minor": 2
}
